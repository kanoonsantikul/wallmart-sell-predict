{
 "cells": [
  {
   "cell_type": "code",
   "execution_count": 1,
   "metadata": {},
   "outputs": [],
   "source": [
    "import pandas as pd\n",
    "import numpy as np"
   ]
  },
  {
   "cell_type": "code",
   "execution_count": 2,
   "metadata": {},
   "outputs": [],
   "source": [
    "stores = pd.read_csv('stores.csv', sep=',',header='infer')"
   ]
  },
  {
   "cell_type": "code",
   "execution_count": 3,
   "metadata": {
    "scrolled": true
   },
   "outputs": [],
   "source": [
    "feature = pd.read_csv('features.csv', sep=',',header='infer')\n",
    "feature = pd.merge(feature, stores, on=['Store'])"
   ]
  },
  {
   "cell_type": "code",
   "execution_count": 4,
   "metadata": {},
   "outputs": [],
   "source": [
    "train = pd.read_csv('train.csv', sep=',',header='infer')\n",
    "train = pd.merge(train, feature, on=['Store','Date', 'IsHoliday'])"
   ]
  },
  {
   "cell_type": "code",
   "execution_count": 5,
   "metadata": {},
   "outputs": [],
   "source": [
    "title_order = ['Store','Dept','Date','IsHoliday','Temperature',\n",
    "               'Fuel_Price','MarkDown1','MarkDown2','MarkDown3',\n",
    "               'MarkDown4','MarkDown5','CPI','Unemployment','Type',\n",
    "               'Size','Weekly_Sales']\n",
    "train = train.reindex(columns=title_order)\n",
    "train.to_csv(\"train_merged.csv\", sep=',', na_rep='NA', index=False,  float_format='%.8f')"
   ]
  },
  {
   "cell_type": "code",
   "execution_count": 6,
   "metadata": {},
   "outputs": [],
   "source": [
    "submit = pd.read_csv('sampleSubmission.csv', sep='_',header='infer')\n",
    "submit = pd.merge(submit, feature, how='left', on=['Store','Date'])"
   ]
  },
  {
   "cell_type": "code",
   "execution_count": 7,
   "metadata": {},
   "outputs": [],
   "source": [
    "columns = title_order[:]\n",
    "columns.remove('Weekly_Sales')\n",
    "submit = submit.reindex(columns=columns)\n",
    "submit.to_csv('submit.csv', sep=',', na_rep='NA', index=False, float_format='%.8f')"
   ]
  },
  {
   "cell_type": "code",
   "execution_count": null,
   "metadata": {},
   "outputs": [],
   "source": []
  }
 ],
 "metadata": {
  "kernelspec": {
   "display_name": "Python 3",
   "language": "python",
   "name": "python3"
  },
  "language_info": {
   "codemirror_mode": {
    "name": "ipython",
    "version": 3
   },
   "file_extension": ".py",
   "mimetype": "text/x-python",
   "name": "python",
   "nbconvert_exporter": "python",
   "pygments_lexer": "ipython3",
   "version": "3.6.4"
  }
 },
 "nbformat": 4,
 "nbformat_minor": 2
}
