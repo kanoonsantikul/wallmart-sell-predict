{
 "cells": [
  {
   "cell_type": "code",
   "execution_count": 1,
   "metadata": {},
   "outputs": [
    {
     "name": "stderr",
     "output_type": "stream",
     "text": [
      "/usr/local/lib/python3.5/dist-packages/statsmodels/compat/pandas.py:56: FutureWarning:\n",
      "\n",
      "The pandas.core.datetools module is deprecated and will be removed in a future version. Please use the pandas.tseries module instead.\n",
      "\n"
     ]
    }
   ],
   "source": [
    "import pandas as pd\n",
    "import numpy as np\n",
    "\n",
    "import plotly.offline as py\n",
    "import plotly.graph_objs as go\n",
    "\n",
    "from statsmodels.tsa.arima_model import ARIMA"
   ]
  },
  {
   "cell_type": "code",
   "execution_count": 2,
   "metadata": {},
   "outputs": [],
   "source": [
    "df = pd.read_csv('../../train_merged.csv', sep=',', header='infer')"
   ]
  },
  {
   "cell_type": "code",
   "execution_count": 3,
   "metadata": {},
   "outputs": [],
   "source": [
    "ts = df[(df.Store == 1) & (df.Dept == 17)]\n",
    "ts = ts[['Weekly_Sales', 'Date']]\n",
    "ts = ts.set_index('Date')"
   ]
  },
  {
   "cell_type": "code",
   "execution_count": 4,
   "metadata": {},
   "outputs": [],
   "source": [
    "std =  ts.rolling(window=52).std()\n",
    "mean = ts.rolling(window=52).mean()\n",
    "ewma = ts.ewm(halflife=12).mean()"
   ]
  },
  {
   "cell_type": "code",
   "execution_count": 5,
   "metadata": {},
   "outputs": [
    {
     "data": {
      "text/plain": [
       "'file:///home/kanoonsantikul/Documents/walmart-sell-predict/src/time-series/temp-plot.html'"
      ]
     },
     "execution_count": 5,
     "metadata": {},
     "output_type": "execute_result"
    }
   ],
   "source": [
    "data = [go.Scatter(x=ts.index, y=ts.Weekly_Sales, name='original'),\n",
    "        go.Scatter(x=std.index, y=std.Weekly_Sales, name='std'),\n",
    "        go.Scatter(x=mean.index, y=mean.Weekly_Sales, name='mean'),\n",
    "        go.Scatter(x=ewma.index, y=ewma.Weekly_Sales, name='ewma')]\n",
    "py.plot(data)"
   ]
  },
  {
   "cell_type": "code",
   "execution_count": 6,
   "metadata": {},
   "outputs": [
    {
     "data": {
      "text/plain": [
       "'file:///home/kanoonsantikul/Documents/walmart-sell-predict/src/time-series/temp-plot.html'"
      ]
     },
     "execution_count": 6,
     "metadata": {},
     "output_type": "execute_result"
    }
   ],
   "source": [
    "ts_diff = ts - mean\n",
    "ts_diff.dropna(inplace=True)\n",
    "py.plot([go.Scatter(x=ts_diff.index, y=ts_diff.Weekly_Sales, name='diff'),\n",
    "        go.Scatter(x=ts.index, y=ts.Weekly_Sales, name='original')])"
   ]
  },
  {
   "cell_type": "code",
   "execution_count": 7,
   "metadata": {},
   "outputs": [
    {
     "data": {
      "text/plain": [
       "'file:///home/kanoonsantikul/Documents/walmart-sell-predict/src/time-series/temp-plot.html'"
      ]
     },
     "execution_count": 7,
     "metadata": {},
     "output_type": "execute_result"
    }
   ],
   "source": [
    "ts_diff = ts - ewma\n",
    "ts_diff.dropna(inplace=True)\n",
    "py.plot([go.Scatter(x=ts_diff.index, y=ts_diff.Weekly_Sales, name='diff'),\n",
    "        go.Scatter(x=ts.index, y=ts.Weekly_Sales, name='original')])"
   ]
  },
  {
   "cell_type": "code",
   "execution_count": 41,
   "metadata": {},
   "outputs": [
    {
     "data": {
      "text/plain": [
       "'file:///home/kanoonsantikul/Documents/walmart-sell-predict/src/time-series/temp-plot.html'"
      ]
     },
     "execution_count": 41,
     "metadata": {},
     "output_type": "execute_result"
    }
   ],
   "source": [
    "model = ARIMA(ts_diff, order=(0, 1, 2))  \n",
    "results_ARIMA = model.fit()\n",
    "\n",
    "yhat = results_ARIMA.fittedvalues\n",
    "yhat *= -1\n",
    "\n",
    "py.plot([go.Scatter(x=yhat.index, y=yhat.values, name='ARIMA'),\n",
    "       go.Scatter(x=ts_diff.index, y=ts_diff.Weekly_Sales, name='original')])"
   ]
  },
  {
   "cell_type": "code",
   "execution_count": 55,
   "metadata": {},
   "outputs": [
    {
     "data": {
      "text/plain": [
       "'file:///home/kanoonsantikul/Documents/walmart-sell-predict/src/time-series/temp-plot.html'"
      ]
     },
     "execution_count": 55,
     "metadata": {},
     "output_type": "execute_result"
    }
   ],
   "source": [
    "# create a differenced series\n",
    "def difference(dataset, interval=1):\n",
    "    diff = list()\n",
    "    for i in range(interval, len(dataset)):\n",
    "        value = dataset[i] - dataset[i - interval]\n",
    "        diff.append(value)\n",
    "    return numpy.array(diff)\n",
    "\n",
    "# invert differenced value\n",
    "def inverse_difference(history, yhat, interval=1):\n",
    "    return yhat + history[-interval]\n",
    "\n",
    "# load dataset\n",
    "series = ts\n",
    "# seasonal difference\n",
    "X = series.values\n",
    "weeks_in_year = 52\n",
    "differenced = difference(X, weeks_in_year)\n",
    "# fit model\n",
    "model = ARIMA(differenced, order=(0,1,2))\n",
    "model_fit = model.fit(disp=0)\n",
    "# multi-step out-of-sample forecast\n",
    "start_index = len(differenced)\n",
    "end_index = start_index + 100\n",
    "forecast = model_fit.predict(start=start_index, end=end_index)\n",
    "# invert the differenced forecast to something usable\n",
    "history = [x for x in X]\n",
    "inverse = []\n",
    "for yhat in forecast:\n",
    "    inverted = inverse_difference(history, yhat, weeks_in_year)\n",
    "    history.append(inverted)\n",
    "    inverse.append(inverted[0])\n",
    "    \n",
    "py.plot([go.Scatter(y=inverse)])"
   ]
  },
  {
   "cell_type": "code",
   "execution_count": null,
   "metadata": {},
   "outputs": [],
   "source": []
  }
 ],
 "metadata": {
  "kernelspec": {
   "display_name": "Python 3",
   "language": "python",
   "name": "python3"
  },
  "language_info": {
   "codemirror_mode": {
    "name": "ipython",
    "version": 3
   },
   "file_extension": ".py",
   "mimetype": "text/x-python",
   "name": "python",
   "nbconvert_exporter": "python",
   "pygments_lexer": "ipython3",
   "version": "3.5.2"
  }
 },
 "nbformat": 4,
 "nbformat_minor": 2
}
