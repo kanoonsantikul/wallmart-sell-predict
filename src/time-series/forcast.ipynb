{
 "cells": [
  {
   "cell_type": "code",
   "execution_count": 4,
   "metadata": {},
   "outputs": [
    {
     "name": "stderr",
     "output_type": "stream",
     "text": [
      "/usr/local/lib/python3.5/dist-packages/statsmodels/compat/pandas.py:56: FutureWarning:\n",
      "\n",
      "The pandas.core.datetools module is deprecated and will be removed in a future version. Please use the pandas.tseries module instead.\n",
      "\n"
     ]
    }
   ],
   "source": [
    "import pandas as pd\n",
    "import numpy as np\n",
    "\n",
    "import plotly.offline as py\n",
    "import plotly.graph_objs as go\n",
    "\n",
    "from statsmodels.tsa.arima_model import ARIMA"
   ]
  },
  {
   "cell_type": "code",
   "execution_count": 2,
   "metadata": {},
   "outputs": [],
   "source": [
    "df = pd.read_csv('../../train_merged.csv', sep=',', header='infer')"
   ]
  },
  {
   "cell_type": "code",
   "execution_count": 3,
   "metadata": {},
   "outputs": [
    {
     "data": {
      "text/plain": [
       "'file:///home/kanoonsantikul/Documents/walmart-sell-predict/src/time-series/temp-plot.html'"
      ]
     },
     "execution_count": 3,
     "metadata": {},
     "output_type": "execute_result"
    }
   ],
   "source": [
    "df1 = df[(df.Store == 15) & (df.Dept == 17)]\n",
    "df1 = df1[['Weekly_Sales', 'Date']]\n",
    "df1 = df1.set_index('Date')\n",
    "\n",
    "std = df1.rolling(window=52).std()\n",
    "mean = df1.rolling(window=52).mean()\n",
    "data = [go.Scatter(x=df1.index, y=df1.Weekly_Sales, name='original'),\n",
    "        go.Scatter(x=std.index, y=std.Weekly_Sales, name='std'),\n",
    "        go.Scatter(x=mean.index, y=mean.Weekly_Sales, name='mean')]\n",
    "py.plot(data)"
   ]
  },
  {
   "cell_type": "code",
   "execution_count": 5,
   "metadata": {},
   "outputs": [
    {
     "name": "stderr",
     "output_type": "stream",
     "text": [
      "/usr/local/lib/python3.5/dist-packages/statsmodels/base/model.py:496: ConvergenceWarning:\n",
      "\n",
      "Maximum Likelihood optimization failed to converge. Check mle_retvals\n",
      "\n"
     ]
    },
    {
     "data": {
      "text/plain": [
       "'file:///home/kanoonsantikul/Documents/walmart-sell-predict/src/time-series/temp-plot.html'"
      ]
     },
     "execution_count": 5,
     "metadata": {},
     "output_type": "execute_result"
    }
   ],
   "source": [
    "model = ARIMA(df1, order=(2, 1, 2))  \n",
    "results_ARIMA = model.fit(disp=-1)\n",
    "\n",
    "yhat = results_ARIMA.fittedvalues\n",
    "\n",
    "py.plot([go.Scatter(x=yhat.index, y=yhat.values, name='ARIMA'),\n",
    "       go.Scatter(x=df1.index, y=df1.Weekly_Sales, name='original')])"
   ]
  },
  {
   "cell_type": "code",
   "execution_count": null,
   "metadata": {},
   "outputs": [],
   "source": []
  }
 ],
 "metadata": {
  "kernelspec": {
   "display_name": "Python 3",
   "language": "python",
   "name": "python3"
  },
  "language_info": {
   "codemirror_mode": {
    "name": "ipython",
    "version": 3
   },
   "file_extension": ".py",
   "mimetype": "text/x-python",
   "name": "python",
   "nbconvert_exporter": "python",
   "pygments_lexer": "ipython3",
   "version": "3.5.2"
  }
 },
 "nbformat": 4,
 "nbformat_minor": 2
}
