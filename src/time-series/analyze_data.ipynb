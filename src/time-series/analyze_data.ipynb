{
 "cells": [
  {
   "cell_type": "code",
   "execution_count": 24,
   "metadata": {},
   "outputs": [],
   "source": [
    "import pandas as pd\n",
    "import numpy as np\n",
    "\n",
    "import plotly.offline as py\n",
    "import plotly.graph_objs as go"
   ]
  },
  {
   "cell_type": "code",
   "execution_count": 25,
   "metadata": {},
   "outputs": [
    {
     "data": {
      "text/plain": [
       "Index(['Store', 'Dept', 'Date', 'IsHoliday', 'Temperature', 'Fuel_Price',\n",
       "       'MarkDown1', 'MarkDown2', 'MarkDown3', 'MarkDown4', 'MarkDown5', 'CPI',\n",
       "       'Unemployment', 'Type', 'Size', 'Weekly_Sales'],\n",
       "      dtype='object')"
      ]
     },
     "execution_count": 25,
     "metadata": {},
     "output_type": "execute_result"
    }
   ],
   "source": [
    "df = pd.read_csv('../../train_merged.csv', sep=',', header='infer')\n",
    "df.columns"
   ]
  },
  {
   "cell_type": "code",
   "execution_count": 26,
   "metadata": {},
   "outputs": [
    {
     "data": {
      "text/plain": [
       "array([ 1,  2,  3,  4,  5,  6,  7,  8,  9, 10, 11, 12, 13, 14, 15, 16, 17,\n",
       "       18, 19, 20, 21, 22, 23, 24, 25, 26, 27, 28, 29, 30, 31, 32, 33, 34,\n",
       "       35, 36, 37, 38, 39, 40, 41, 42, 43, 44, 45])"
      ]
     },
     "execution_count": 26,
     "metadata": {},
     "output_type": "execute_result"
    }
   ],
   "source": [
    "df.Store.unique()"
   ]
  },
  {
   "cell_type": "code",
   "execution_count": 27,
   "metadata": {},
   "outputs": [
    {
     "data": {
      "text/plain": [
       "'file:///home/kanoonsantikul/Documents/walmart-sell-predict/src/time-series/dept-1.html'"
      ]
     },
     "execution_count": 27,
     "metadata": {},
     "output_type": "execute_result"
    }
   ],
   "source": [
    "df1 = df[(df.Store == 1) & (df.Dept == 1)]\n",
    "df2 = df[(df.Store == 2) & (df.Dept == 1)]\n",
    "df3 = df[(df.Store == 3) & (df.Dept == 1)]\n",
    "df4 = df[(df.Store == 4) & (df.Dept == 1)]\n",
    "df5 = df[(df.Store == 5) & (df.Dept == 1)]\n",
    "\n",
    "data = [\n",
    "    go.Scatter(x=df1.Date, y=df1.Weekly_Sales, name='store-1'),\n",
    "    go.Scatter(x=df2.Date, y=df2.Weekly_Sales, name='store-2'),\n",
    "    go.Scatter(x=df3.Date, y=df3.Weekly_Sales, name='store-3'),\n",
    "    go.Scatter(x=df4.Date, y=df4.Weekly_Sales, name='store-4'),\n",
    "    go.Scatter(x=df5.Date, y=df5.Weekly_Sales, name='store-5')\n",
    "]\n",
    "\n",
    "layout = dict(\n",
    "    title = \"dept-1\",\n",
    ")\n",
    "\n",
    "fig = dict(data=data, layout=layout)\n",
    "        \n",
    "py.plot(fig, filename='dept-1.html')"
   ]
  },
  {
   "cell_type": "code",
   "execution_count": 28,
   "metadata": {},
   "outputs": [
    {
     "data": {
      "text/plain": [
       "'file:///home/kanoonsantikul/Documents/walmart-sell-predict/src/time-series/dept-2.html'"
      ]
     },
     "execution_count": 28,
     "metadata": {},
     "output_type": "execute_result"
    }
   ],
   "source": [
    "df1 = df[(df.Store == 1) & (df.Dept == 2)]\n",
    "df2 = df[(df.Store == 2) & (df.Dept == 2)]\n",
    "df3 = df[(df.Store == 3) & (df.Dept == 2)]\n",
    "df4 = df[(df.Store == 4) & (df.Dept == 2)]\n",
    "df5 = df[(df.Store == 5) & (df.Dept == 2)]\n",
    "\n",
    "data = [\n",
    "    go.Scatter(x=df1.Date, y=df1.Weekly_Sales, name='store-1'),\n",
    "    go.Scatter(x=df2.Date, y=df2.Weekly_Sales, name='store-2'),\n",
    "    go.Scatter(x=df3.Date, y=df3.Weekly_Sales, name='store-3'),\n",
    "    go.Scatter(x=df4.Date, y=df4.Weekly_Sales, name='store-4'),\n",
    "    go.Scatter(x=df5.Date, y=df5.Weekly_Sales, name='store-5')\n",
    "]\n",
    "\n",
    "layout = dict(\n",
    "    title = \"dept-2\",\n",
    ")\n",
    "\n",
    "fig = dict(data=data, layout=layout)\n",
    "        \n",
    "py.plot(fig, filename='dept-2.html')"
   ]
  },
  {
   "cell_type": "code",
   "execution_count": 72,
   "metadata": {},
   "outputs": [
    {
     "data": {
      "text/plain": [
       "'file:///home/kanoonsantikul/Documents/walmart-sell-predict/src/time-series/dept-3.html'"
      ]
     },
     "execution_count": 72,
     "metadata": {},
     "output_type": "execute_result"
    }
   ],
   "source": [
    "df1 = df[(df.Store == 1) & (df.Dept == 3)]\n",
    "df2 = df[(df.Store == 2) & (df.Dept == 3)]\n",
    "df3 = df[(df.Store == 3) & (df.Dept == 3)]\n",
    "df4 = df[(df.Store == 4) & (df.Dept == 3)]\n",
    "df5 = df[(df.Store == 5) & (df.Dept == 3)]\n",
    "\n",
    "data = [\n",
    "    go.Scatter(x=df1.Date, y=df1.Weekly_Sales, name='store-1'),\n",
    "    go.Scatter(x=df2.Date, y=df2.Weekly_Sales, name='store-2'),\n",
    "    go.Scatter(x=df3.Date, y=df3.Weekly_Sales, name='store-3'),\n",
    "    go.Scatter(x=df4.Date, y=df4.Weekly_Sales, name='store-4'),\n",
    "    go.Scatter(x=df5.Date, y=df5.Weekly_Sales, name='store-5')\n",
    "]\n",
    "\n",
    "layout = dict(\n",
    "    title = \"dept-3\",\n",
    ")\n",
    "\n",
    "fig = dict(data=data, layout=layout)\n",
    "        \n",
    "py.plot(fig, filename='dept-3.html')"
   ]
  }
 ],
 "metadata": {
  "kernelspec": {
   "display_name": "Python 3",
   "language": "python",
   "name": "python3"
  },
  "language_info": {
   "codemirror_mode": {
    "name": "ipython",
    "version": 3
   },
   "file_extension": ".py",
   "mimetype": "text/x-python",
   "name": "python",
   "nbconvert_exporter": "python",
   "pygments_lexer": "ipython3",
   "version": "3.5.2"
  }
 },
 "nbformat": 4,
 "nbformat_minor": 2
}
