{
 "cells": [
  {
   "cell_type": "code",
   "execution_count": null,
   "metadata": {},
   "outputs": [],
   "source": [
    "import pandas as pd\n",
    "import numpy as np\n",
    "from sklearn.model_selection import train_test_split\n",
    "import os\n",
    "\n",
    "\n",
    "model_name = input('model name: ')\n",
    "all_data = pd.read_csv('train_merged.csv', sep=',', header='infer',\n",
    "                       dtype={'Store':int, 'Dept':str, 'IsHoliday':str})\n",
    "\n",
    "del all_data['MarkDown1']\n",
    "del all_data['MarkDown2']\n",
    "del all_data['MarkDown3']\n",
    "del all_data['MarkDown4']\n",
    "del all_data['MarkDown5']\n",
    "del all_data['Date']\n",
    "del all_data['Type']\n",
    "del all_data['Size']\n",
    "all_data = pd.get_dummies(all_data)"
   ]
  },
  {
   "cell_type": "code",
   "execution_count": null,
   "metadata": {},
   "outputs": [],
   "source": [
    "def get_data_store(num):\n",
    "\n",
    "    data = all_data[all_data['Store']==int(num)]\n",
    "\n",
    "    Y = data['Weekly_Sales']\n",
    "    del data['Weekly_Sales']\n",
    "    del data['Store']\n",
    "\n",
    "    X = data.values\n",
    "    Y = Y.values\n",
    "    X = X.astype('float32')\n",
    "    Y = Y.astype('float32')\n",
    "\n",
    "    return train_test_split(X, Y, test_size=0.1, random_state=13)"
   ]
  },
  {
   "cell_type": "code",
   "execution_count": null,
   "metadata": {},
   "outputs": [],
   "source": [
    "from keras.models import Sequential\n",
    "from keras.layers import Dense\n",
    "from keras.optimizers import Adam\n",
    "import h5py\n",
    "\n",
    "\n",
    "EPOCHS = int(input('Epochs :'))\n",
    "\n",
    "\n",
    "def build_model(input_shape):\n",
    "    model = Sequential()\n",
    "    model.add(Dense(64, input_shape=input_shape, activation='relu'))\n",
    "    model.add(Dense(128, activation='relu'))\n",
    "    model.add(Dense(1))\n",
    "    model.compile(optimizer=Adam(lr=0.01), loss='mean_absolute_error')\n",
    "    return model\n",
    "\n",
    "def evaluate(model, x, y):\n",
    "    predicted = model.predict(x)[:, 0]\n",
    "    error = np.absolute(predicted - y)\n",
    "    mae = sum(error) / len(error)\n",
    "    return {'predicted':predicted, 'mae':mae}"
   ]
  },
  {
   "cell_type": "code",
   "execution_count": null,
   "metadata": {},
   "outputs": [],
   "source": [
    "models = []\n",
    "for i in range(45):\n",
    "    X_train, X_test, Y_train, Y_test = get_data_store(i+1)\n",
    "    models.append(build_model(input_shape=(X_train.shape[1],)))\n",
    "    history = models[i].fit(X_train, Y_train,\n",
    "            epochs=EPOCHS,\n",
    "            batch_size=X_train.shape[0],\n",
    "            verbose=2)\n",
    "\n",
    "    print(i+1, ' MAE ', evaluate(models[i], X_test, Y_test)['mae'])\n",
    "    print()\n",
    "\n",
    "    if not os.path.exists('models/'+model_name):\n",
    "        os.makedirs('models/'+model_name)\n",
    "    models[i].save('models/'+model_name+'/s'+str(i+1)+'.h5py')"
   ]
  }
 ],
 "metadata": {
  "kernelspec": {
   "display_name": "Python 3",
   "language": "python",
   "name": "python3"
  },
  "language_info": {
   "codemirror_mode": {
    "name": "ipython",
    "version": 3
   },
   "file_extension": ".py",
   "mimetype": "text/x-python",
   "name": "python",
   "nbconvert_exporter": "python",
   "pygments_lexer": "ipython3",
   "version": "3.6.4"
  }
 },
 "nbformat": 4,
 "nbformat_minor": 2
}
