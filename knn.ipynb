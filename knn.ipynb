{
 "cells": [
  {
   "cell_type": "code",
   "execution_count": null,
   "metadata": {},
   "outputs": [],
   "source": [
    "import pandas as pd"
   ]
  },
  {
   "cell_type": "code",
   "execution_count": null,
   "metadata": {},
   "outputs": [],
   "source": [
    "train = pd.read_csv('data/train.csv')"
   ]
  },
  {
   "cell_type": "code",
   "execution_count": null,
   "metadata": {},
   "outputs": [],
   "source": [
    "train['Date'] = pd.to_datetime(train['Date'])\n",
    "train['Week'] = train['Date'].dt.week"
   ]
  },
  {
   "cell_type": "code",
   "execution_count": null,
   "metadata": {},
   "outputs": [],
   "source": [
    "from sklearn.neighbors import KNeighborsRegressor"
   ]
  },
  {
   "cell_type": "code",
   "execution_count": null,
   "metadata": {},
   "outputs": [],
   "source": [
    "import numpy as np\n",
    "\n",
    "def get_data(s, d):\n",
    "    item = train[(train['Store']==s) & (train['Dept']==d)]\n",
    "    X = item['Week'].values\n",
    "    X = np.expand_dims(X, axis=1)\n",
    "    Y = item['Weekly_Sales'].values\n",
    "    return X.copy(), Y.copy()"
   ]
  },
  {
   "cell_type": "code",
   "execution_count": null,
   "metadata": {},
   "outputs": [],
   "source": [
    "test = pd.read_csv('data/sampleSubmission.csv', sep='_')\n",
    "test['Date'] = pd.to_datetime(test['Date'])\n",
    "test['Week'] = test['Date'].dt.week\n",
    "\n",
    "stores = test['Store'].unique()\n",
    "depts_store = {}\n",
    "\n",
    "for s in stores:\n",
    "    depts_store[s] = test[test['Store']==s]['Dept'].unique()"
   ]
  },
  {
   "cell_type": "code",
   "execution_count": null,
   "metadata": {},
   "outputs": [],
   "source": [
    "models = {}\n",
    "\n",
    "for s in stores:\n",
    "    for d in depts_store[s]:\n",
    "        X, Y = get_data(s, d)\n",
    "        if len(X) > 0:\n",
    "            models[(s, d)] = KNeighborsRegressor(\n",
    "                n_neighbors=len(X), \n",
    "                weights='distance',\n",
    "                n_jobs=-1)\n",
    "            models[(s, d)].fit(X, Y)\n",
    "        else:\n",
    "            models[(s, d)] = None"
   ]
  },
  {
   "cell_type": "code",
   "execution_count": null,
   "metadata": {},
   "outputs": [],
   "source": [
    "from IPython.display import clear_output\n",
    "\n",
    "test['Weekly_Sales'] = 0\n",
    "\n",
    "for s in stores:\n",
    "    for d in depts_store[s]:\n",
    "        print(s, d)\n",
    "        idx = test.index[(test['Store']==s) & (test['Dept']==d)].tolist()\n",
    "        if models[(s, d)] != None:\n",
    "            test.loc[idx, 'Weekly_Sales'] = models[(s, d)].predict(\n",
    "                np.expand_dims(test.loc[idx, 'Week'], axis=1))\n",
    "    clear_output()\n",
    "test"
   ]
  },
  {
   "cell_type": "code",
   "execution_count": null,
   "metadata": {},
   "outputs": [],
   "source": [
    "submit = pd.read_csv('data/sampleSubmission.csv')\n",
    "submit['Weekly_Sales'] = test['Weekl_Sales']\n",
    "submit.columns = ['Id', 'Weekly_Sales']\n",
    "submit.to_csv('data/submit.csv', index=False)"
   ]
  },
  {
   "cell_type": "code",
   "execution_count": null,
   "metadata": {},
   "outputs": [],
   "source": []
  }
 ],
 "metadata": {
  "kernelspec": {
   "display_name": "Python 3",
   "language": "python",
   "name": "python3"
  },
  "language_info": {
   "codemirror_mode": {
    "name": "ipython",
    "version": 3
   },
   "file_extension": ".py",
   "mimetype": "text/x-python",
   "name": "python",
   "nbconvert_exporter": "python",
   "pygments_lexer": "ipython3",
   "version": "3.6.4"
  }
 },
 "nbformat": 4,
 "nbformat_minor": 2
}
