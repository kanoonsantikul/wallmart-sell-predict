{
 "cells": [
  {
   "cell_type": "code",
   "execution_count": 1,
   "metadata": {},
   "outputs": [
    {
     "name": "stdout",
     "output_type": "stream",
     "text": [
      "model name: 01\n"
     ]
    }
   ],
   "source": [
    "import pandas as pd\n",
    "import numpy as np\n",
    "from sklearn.model_selection import train_test_split\n",
    "import os\n",
    "\n",
    "model_name = input('model name: ')\n",
    "\n",
    "while not os.path.exists('models/'+model_name):\n",
    "    model_name = input('Not found!\\nmodel name: ')\n",
    "\n",
    "data = pd.read_csv('submit.csv', sep=',', header='infer', \n",
    "                   dtype={'Store':int, 'Dept':str, 'IsHoliday':str})\n",
    "\n",
    "del data['MarkDown1']\n",
    "del data['MarkDown2']\n",
    "del data['MarkDown3']\n",
    "del data['MarkDown4']\n",
    "del data['MarkDown5']\n",
    "del data['Date']\n",
    "del data['Type']\n",
    "del data['Size']\n",
    "\n",
    "X = pd.get_dummies(data)\n",
    "X = X.values\n",
    "X = X.astype('float32')"
   ]
  },
  {
   "cell_type": "code",
   "execution_count": 2,
   "metadata": {},
   "outputs": [
    {
     "name": "stderr",
     "output_type": "stream",
     "text": [
      "c:\\users\\kritsanachaikeaw\\anaconda3\\envs\\tensorflow\\lib\\site-packages\\h5py\\__init__.py:36: FutureWarning: Conversion of the second argument of issubdtype from `float` to `np.floating` is deprecated. In future, it will be treated as `np.float64 == np.dtype(float).type`.\n",
      "  from ._conv import register_converters as _register_converters\n",
      "Using TensorFlow backend.\n"
     ]
    }
   ],
   "source": [
    "from keras.models import load_model\n",
    "\n",
    "\n",
    "models = []\n",
    "for i in range(45):\n",
    "    models.append(load_model('models/'+model_name+'/s'+str(i+1)+'.h5py'))"
   ]
  },
  {
   "cell_type": "code",
   "execution_count": 3,
   "metadata": {},
   "outputs": [],
   "source": [
    "P = np.ndarray(shape=(0,))\n",
    "for i in range(45):\n",
    "    dummies = pd.get_dummies(data)\n",
    "    S = dummies[dummies['Store']==i+1]\n",
    "    del S['Store']\n",
    "    P = np.concatenate((P, models[i].predict(S)[:,0]))\n",
    "    \n",
    "weekly_sale = pd.DataFrame(data=P, columns=['Weekly_Sales'])"
   ]
  },
  {
   "cell_type": "code",
   "execution_count": 4,
   "metadata": {},
   "outputs": [],
   "source": [
    "summit = pd.read_csv('sampleSubmission.csv', sep=',', header='infer')\n",
    "summit['Weekly_Sales'] = weekly_sale\n",
    "summit.to_csv('predict.csv', sep=',', index=False)"
   ]
  },
  {
   "cell_type": "code",
   "execution_count": null,
   "metadata": {},
   "outputs": [],
   "source": []
  }
 ],
 "metadata": {
  "kernelspec": {
   "display_name": "Python 3",
   "language": "python",
   "name": "python3"
  },
  "language_info": {
   "codemirror_mode": {
    "name": "ipython",
    "version": 3
   },
   "file_extension": ".py",
   "mimetype": "text/x-python",
   "name": "python",
   "nbconvert_exporter": "python",
   "pygments_lexer": "ipython3",
   "version": "3.6.4"
  }
 },
 "nbformat": 4,
 "nbformat_minor": 2
}
