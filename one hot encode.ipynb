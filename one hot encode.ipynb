{
 "cells": [
  {
   "cell_type": "code",
   "execution_count": 1,
   "metadata": {},
   "outputs": [
    {
     "ename": "ImportError",
     "evalue": "No module named 'sklearn'",
     "output_type": "error",
     "traceback": [
      "\u001b[0;31m---------------------------------------------------------------------------\u001b[0m",
      "\u001b[0;31mImportError\u001b[0m                               Traceback (most recent call last)",
      "\u001b[0;32m<ipython-input-1-1f239cf41461>\u001b[0m in \u001b[0;36m<module>\u001b[0;34m()\u001b[0m\n\u001b[1;32m      1\u001b[0m \u001b[0;32mimport\u001b[0m \u001b[0mpandas\u001b[0m \u001b[0;32mas\u001b[0m \u001b[0mpd\u001b[0m\u001b[0;34m\u001b[0m\u001b[0m\n\u001b[1;32m      2\u001b[0m \u001b[0;32mimport\u001b[0m \u001b[0mnumpy\u001b[0m \u001b[0;32mas\u001b[0m \u001b[0mnp\u001b[0m\u001b[0;34m\u001b[0m\u001b[0m\n\u001b[0;32m----> 3\u001b[0;31m \u001b[0;32mfrom\u001b[0m \u001b[0msklearn\u001b[0m\u001b[0;34m.\u001b[0m\u001b[0mmodel_selection\u001b[0m \u001b[0;32mimport\u001b[0m \u001b[0mtrain_test_split\u001b[0m\u001b[0;34m\u001b[0m\u001b[0m\n\u001b[0m\u001b[1;32m      4\u001b[0m \u001b[0;34m\u001b[0m\u001b[0m\n\u001b[1;32m      5\u001b[0m \u001b[0;34m\u001b[0m\u001b[0m\n",
      "\u001b[0;31mImportError\u001b[0m: No module named 'sklearn'"
     ]
    }
   ],
   "source": [
    "import pandas as pd\n",
    "import numpy as np\n",
    "from sklearn.model_selection import train_test_split\n",
    "\n",
    "\n",
    "data = pd.read_csv('train_merged.csv', sep=',', header='infer', \n",
    "                    dtype={'Store':str, 'Dept':str, 'IsHoliday':str})\n",
    "\n",
    "Y = data['Weekly_Sales']\n",
    "del data['Weekly_Sales']\n",
    "del data['MarkDown1']\n",
    "del data['MarkDown2']\n",
    "del data['MarkDown3']\n",
    "del data['MarkDown4']\n",
    "del data['MarkDown5']\n",
    "del data['Date']\n",
    "del data['Store']\n",
    "del data['Type']\n",
    "del data['Size']\n",
    "\n",
    "X = pd.get_dummies(data)\n",
    "X = X.values\n",
    "Y = Y.values\n",
    "X = X.astype('float32')\n",
    "Y = Y.astype('float32')"
   ]
  },
  {
   "cell_type": "code",
   "execution_count": null,
   "metadata": {},
   "outputs": [],
   "source": [
    "X_train, X_test, Y_train, Y_test = train_test_split(X, Y, test_size=0.1, random_state=13)"
   ]
  },
  {
   "cell_type": "code",
   "execution_count": null,
   "metadata": {},
   "outputs": [],
   "source": [
    "from keras.models import Sequential\n",
    "from keras.layers import Dense\n",
    "from keras.optimizers import Adam\n",
    "import h5py\n",
    "\n",
    "\n",
    "EPOCHS = 5\n",
    "\n",
    "model = Sequential()\n",
    "model.add(Dense(64, input_shape=(X_train.shape[1],), activation='relu'))\n",
    "model.add(Dense(1))\n",
    "model.compile(optimizer=Adam(lr=0.001, decay=1e-12), loss='mean_absolute_error')\n",
    "history = model.fit(X, Y, epochs=EPOCHS, batch_size=X_train.shape[0], verbose=0)"
   ]
  },
  {
   "cell_type": "code",
   "execution_count": null,
   "metadata": {},
   "outputs": [],
   "source": [
    "%matplotlib inline\n",
    "import matplotlib.pyplot as plt\n",
    "\n",
    "\n",
    "def evaluate(model, x, y):\n",
    "    predicted = model.predict(x)[:, 0]\n",
    "    error = np.absolute(predicted - y)\n",
    "    mae = sum(error) / len(error)\n",
    "    return {'predicted':predicted, 'mae':mae}\n",
    "\n",
    "print('MAE ', evaluate(model, X_test, Y_test)['mae'])\n",
    "\n",
    "loss = history.history['loss']\n",
    "plt.plot(range(EPOCHS), loss, 'bo')\n",
    "\n",
    "if input('save:[y/n] ') == 'y':\n",
    "    file_name = input('name: ')\n",
    "    model.save(file_name+'.h5py')"
   ]
  },
  {
   "cell_type": "code",
   "execution_count": null,
   "metadata": {},
   "outputs": [],
   "source": []
  }
 ],
 "metadata": {
  "kernelspec": {
   "display_name": "Python 3",
   "language": "python",
   "name": "python3"
  },
  "language_info": {
   "codemirror_mode": {
    "name": "ipython",
    "version": 3
   },
   "file_extension": ".py",
   "mimetype": "text/x-python",
   "name": "python",
   "nbconvert_exporter": "python",
   "pygments_lexer": "ipython3",
   "version": "3.5.2"
  }
 },
 "nbformat": 4,
 "nbformat_minor": 2
}
