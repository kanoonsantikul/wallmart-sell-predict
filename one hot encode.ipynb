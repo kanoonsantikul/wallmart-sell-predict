{
 "cells": [
  {
   "cell_type": "code",
   "execution_count": 1,
   "metadata": {},
   "outputs": [],
   "source": [
    "import pandas as pd\n",
    "import numpy as np\n",
    "from sklearn.model_selection import train_test_split\n",
    "\n",
    "\n",
    "data = pd.read_csv('train_merged.csv', sep=',', header='infer', \n",
    "                    dtype={'Store':str, 'Dept':str, 'IsHoliday':str})\n",
    "\n",
    "Y = data['Weekly_Sales']\n",
    "del data['Weekly_Sales']\n",
    "del data['MarkDown1']\n",
    "del data['MarkDown2']\n",
    "del data['MarkDown3']\n",
    "del data['MarkDown4']\n",
    "del data['MarkDown5']\n",
    "del data['Date']\n",
    "del data['Store']\n",
    "del data['Type']\n",
    "del data['Size']\n",
    "\n",
    "X = pd.get_dummies(data)\n",
    "X = X.values\n",
    "Y = Y.values\n",
    "X = X.astype('float32')\n",
    "Y = Y.astype('float32')\n",
    "\n",
    "X_train, X_test, Y_train, Y_test = train_test_split(X, Y, test_size=0.1, random_state=13)"
   ]
  },
  {
   "cell_type": "code",
   "execution_count": null,
   "metadata": {},
   "outputs": [
    {
     "name": "stderr",
     "output_type": "stream",
     "text": [
      "c:\\users\\kritsanachaikeaw\\anaconda3\\envs\\tensorflow\\lib\\site-packages\\h5py\\__init__.py:36: FutureWarning: Conversion of the second argument of issubdtype from `float` to `np.floating` is deprecated. In future, it will be treated as `np.float64 == np.dtype(float).type`.\n",
      "  from ._conv import register_converters as _register_converters\n",
      "Using TensorFlow backend.\n"
     ]
    }
   ],
   "source": [
    "from keras.models import Sequential\n",
    "from keras.layers import Dense\n",
    "from keras.optimizers import Adam\n",
    "import h5py\n",
    "\n",
    "\n",
    "EPOCHS = 10000\n",
    "\n",
    "model = Sequential()\n",
    "model.add(Dense(64, input_shape=(X_train.shape[1],), activation='relu'))\n",
    "model.add(Dense(1))\n",
    "model.compile(optimizer=Adam(lr=0.001, decay=1e-12), loss='mean_absolute_error')\n",
    "history = model.fit(X, Y, epochs=EPOCHS, batch_size=X_train.shape[0], verbose=0)"
   ]
  },
  {
   "cell_type": "code",
   "execution_count": null,
   "metadata": {},
   "outputs": [],
   "source": [
    "%matplotlib inline\n",
    "import matplotlib.pyplot as plt\n",
    "\n",
    "\n",
    "def evaluate(model, x, y):\n",
    "    predicted = model.predict(x)[:, 0]\n",
    "    error = np.absolute(predicted - y)\n",
    "    mae = sum(error) / len(error)\n",
    "    return {'predicted':predicted, 'mae':mae}\n",
    "\n",
    "print('MAE ', evaluate(model, X_test, Y_test)['mae'])\n",
    "\n",
    "loss = history.history['loss']\n",
    "plt.plot(range(EPOCHS), loss, 'bo')\n",
    "\n",
    "if input('save:[y/n] ') == 'y':\n",
    "    file_name = input('name: ')\n",
    "    model.save(file_name+'.h5py')"
   ]
  },
  {
   "cell_type": "code",
   "execution_count": null,
   "metadata": {},
   "outputs": [],
   "source": []
  }
 ],
 "metadata": {
  "kernelspec": {
   "display_name": "Python 3",
   "language": "python",
   "name": "python3"
  },
  "language_info": {
   "codemirror_mode": {
    "name": "ipython",
    "version": 3
   },
   "file_extension": ".py",
   "mimetype": "text/x-python",
   "name": "python",
   "nbconvert_exporter": "python",
   "pygments_lexer": "ipython3",
   "version": "3.6.4"
  }
 },
 "nbformat": 4,
 "nbformat_minor": 2
}
