{
 "cells": [
  {
   "cell_type": "code",
   "execution_count": 1,
   "metadata": {},
   "outputs": [
    {
     "data": {
      "text/plain": [
       "(dtype('float32'), dtype('float32'))"
      ]
     },
     "execution_count": 1,
     "metadata": {},
     "output_type": "execute_result"
    }
   ],
   "source": [
    "import pandas as pd\n",
    "import numpy as np\n",
    "\n",
    "\n",
    "data = pd.read_csv('train_merged.csv', sep=',', header='infer', \n",
    "                    dtype={'Store':str, 'Dept':str, 'IsHoliday':str})\n",
    "\n",
    "Y = data['Weekly_Sales']\n",
    "del data['Weekly_Sales']\n",
    "del data['MarkDown1']\n",
    "del data['MarkDown2']\n",
    "del data['MarkDown3']\n",
    "del data['MarkDown4']\n",
    "del data['MarkDown5']\n",
    "del data['Date']\n",
    "\n",
    "X = pd.get_dummies(data)\n",
    "X = X.values\n",
    "Y = Y.values\n",
    "X = X.astype('float32')\n",
    "Y = Y.astype('float32')\n",
    "X.dtype, Y.dtype"
   ]
  },
  {
   "cell_type": "code",
   "execution_count": 2,
   "metadata": {},
   "outputs": [
    {
     "name": "stderr",
     "output_type": "stream",
     "text": [
      "c:\\users\\kritsanachaikeaw\\anaconda3\\envs\\tensorflow\\lib\\site-packages\\h5py\\__init__.py:36: FutureWarning: Conversion of the second argument of issubdtype from `float` to `np.floating` is deprecated. In future, it will be treated as `np.float64 == np.dtype(float).type`.\n",
      "  from ._conv import register_converters as _register_converters\n",
      "Using TensorFlow backend.\n"
     ]
    },
    {
     "name": "stdout",
     "output_type": "stream",
     "text": [
      "Epoch 1/10\n",
      "421570/421570 [==============================] - 75s 178us/step - loss: 488745576.7593 - mean_squared_error: 488745576.7593\n",
      "Epoch 2/10\n",
      "421570/421570 [==============================] - 82s 195us/step - loss: 487019864.6549 - mean_squared_error: 487019864.6549\n",
      "Epoch 3/10\n",
      "421570/421570 [==============================] - 56s 132us/step - loss: 485729876.4994 - mean_squared_error: 485729876.4994\n",
      "Epoch 4/10\n",
      "421570/421570 [==============================] - 69s 164us/step - loss: 484883196.5856 - mean_squared_error: 484883196.5856\n",
      "Epoch 5/10\n",
      "421570/421570 [==============================] - 99s 234us/step - loss: 484104329.8374 - mean_squared_error: 484104329.8374\n",
      "Epoch 6/10\n",
      "421570/421570 [==============================] - 128s 303us/step - loss: 482796446.4477 - mean_squared_error: 482796446.4477\n",
      "Epoch 7/10\n",
      "421570/421570 [==============================] - 131s 310us/step - loss: 477713415.3165 - mean_squared_error: 477713415.3165\n",
      "Epoch 8/10\n",
      "421570/421570 [==============================] - 126s 298us/step - loss: 449428485.0009 - mean_squared_error: 449428485.0009\n",
      "Epoch 9/10\n",
      "421570/421570 [==============================] - 122s 290us/step - loss: 391647189.5795 - mean_squared_error: 391647189.5795\n",
      "Epoch 10/10\n",
      "421570/421570 [==============================] - 124s 294us/step - loss: 372460425.2695 - mean_squared_error: 372460425.2695\n"
     ]
    },
    {
     "data": {
      "text/plain": [
       "<keras.callbacks.History at 0x2af83bbca58>"
      ]
     },
     "execution_count": 2,
     "metadata": {},
     "output_type": "execute_result"
    }
   ],
   "source": [
    "from keras.models import Sequential\n",
    "from keras.layers import Dense\n",
    "\n",
    "\n",
    "model = Sequential()\n",
    "model.add(Dense(32, input_shape=(X.shape[1],), kernel_initializer='normal', bias_initializer='normal', activation='relu'))\n",
    "model.add(Dense(32, kernel_initializer='normal', bias_initializer='normal', activation='relu'))\n",
    "model.add(Dense(1, kernel_initializer='normal', bias_initializer='normal'))\n",
    "model.compile(optimizer='adam', loss='mean_squared_error', metrics=['mse'])\n",
    "model.fit(X, Y, epochs=10, batch_size=32)"
   ]
  },
  {
   "cell_type": "code",
   "execution_count": null,
   "metadata": {},
   "outputs": [],
   "source": []
  }
 ],
 "metadata": {
  "kernelspec": {
   "display_name": "Python 3",
   "language": "python",
   "name": "python3"
  },
  "language_info": {
   "codemirror_mode": {
    "name": "ipython",
    "version": 3
   },
   "file_extension": ".py",
   "mimetype": "text/x-python",
   "name": "python",
   "nbconvert_exporter": "python",
   "pygments_lexer": "ipython3",
   "version": "3.6.4"
  }
 },
 "nbformat": 4,
 "nbformat_minor": 2
}
